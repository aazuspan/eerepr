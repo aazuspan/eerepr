{
 "cells": [
  {
   "cell_type": "code",
   "execution_count": null,
   "metadata": {},
   "outputs": [],
   "source": [
    "# Install eerepr if needed\n",
    "# !pip install eerepr"
   ]
  },
  {
   "cell_type": "code",
   "execution_count": 2,
   "metadata": {
    "ExecuteTime": {
     "end_time": "2023-04-09T23:31:44.215103Z",
     "start_time": "2023-04-09T23:31:41.809170Z"
    }
   },
   "outputs": [],
   "source": [
    "import ee\n",
    "import eerepr\n",
    "\n",
    "ee.Authenticate()\n",
    "ee.Initialize()"
   ]
  },
  {
   "cell_type": "markdown",
   "metadata": {},
   "source": [
    "## Quick Start"
   ]
  },
  {
   "cell_type": "markdown",
   "metadata": {},
   "source": [
    "Importing `eerepr` registers interactive reprs to all Earth Engine objects. Just print an object to preview it. This works for simple objects, like `ee.Dictionary`..."
   ]
  },
  {
   "cell_type": "code",
   "execution_count": 3,
   "metadata": {
    "ExecuteTime": {
     "end_time": "2023-04-09T23:29:51.253668Z",
     "start_time": "2023-04-09T23:29:51.227784Z"
    }
   },
   "outputs": [
    {
     "data": {
      "application/vnd.jupyter.widget-view+json": {
       "model_id": "e585759586344ada918c7d64c4ee661c",
       "version_major": 2,
       "version_minor": 0
      },
      "text/plain": [
       "EEReprWidget(content=\"<span class='ee-loading'><div class='ee-spinner'></div> Dictionary (Computing)</span>\")"
      ]
     },
     "metadata": {},
     "output_type": "display_data"
    }
   ],
   "source": [
    "ee.Dictionary({\"test\": [1, 2, 3, 4]})"
   ]
  },
  {
   "cell_type": "markdown",
   "metadata": {},
   "source": [
    "...and for more complex objects like `ee.ImageCollection` or `ee.FeatureCollection`."
   ]
  },
  {
   "cell_type": "code",
   "execution_count": 4,
   "metadata": {
    "ExecuteTime": {
     "end_time": "2023-04-09T23:29:53.999458Z",
     "start_time": "2023-04-09T23:29:53.989864Z"
    }
   },
   "outputs": [
    {
     "data": {
      "application/vnd.jupyter.widget-view+json": {
       "model_id": "eb6d73c1f96f4048adc72e058849fbe1",
       "version_major": 2,
       "version_minor": 0
      },
      "text/plain": [
       "EEReprWidget(content=\"<span class='ee-loading'><div class='ee-spinner'></div> ImageCollection (Computing)</spa…"
      ]
     },
     "metadata": {},
     "output_type": "display_data"
    }
   ],
   "source": [
    "ee.ImageCollection(\"COPERNICUS/S2_SR\").limit(10)"
   ]
  },
  {
   "cell_type": "markdown",
   "metadata": {},
   "source": [
    "## Features"
   ]
  },
  {
   "cell_type": "markdown",
   "metadata": {},
   "source": [
    "### ⚡ Async"
   ]
  },
  {
   "cell_type": "markdown",
   "metadata": {},
   "source": [
    "`eerepr` uses threading to grab data asynchronously from Earth Engine, meaning that displaying a big object doesn't block execution! Try running the next few cells together to see the results."
   ]
  },
  {
   "cell_type": "code",
   "execution_count": 5,
   "metadata": {},
   "outputs": [],
   "source": [
    "img = ee.ImageCollection(\"COPERNICUS/S2_SR\").limit(5_000).sort(\"CLOUDY_PIXEL_PERCENTAGE\").first()"
   ]
  },
  {
   "cell_type": "code",
   "execution_count": 6,
   "metadata": {},
   "outputs": [
    {
     "data": {
      "application/vnd.jupyter.widget-view+json": {
       "model_id": "04b1b56f9cca4325be186a87e5c24770",
       "version_major": 2,
       "version_minor": 0
      },
      "text/plain": [
       "EEReprWidget(content=\"<span class='ee-loading'><div class='ee-spinner'></div> Image (Computing)</span>\")"
      ]
     },
     "metadata": {},
     "output_type": "display_data"
    }
   ],
   "source": [
    "img"
   ]
  },
  {
   "cell_type": "code",
   "execution_count": 7,
   "metadata": {},
   "outputs": [
    {
     "data": {
      "application/vnd.jupyter.widget-view+json": {
       "model_id": "0902aa77ab7c41828eae1de60d882f79",
       "version_major": 2,
       "version_minor": 0
      },
      "text/plain": [
       "EEReprWidget(content=\"<span class='ee-loading'><div class='ee-spinner'></div> Date (Computing)</span>\")"
      ]
     },
     "metadata": {},
     "output_type": "display_data"
    }
   ],
   "source": [
    "img.date()"
   ]
  },
  {
   "cell_type": "code",
   "execution_count": 8,
   "metadata": {},
   "outputs": [
    {
     "data": {
      "application/vnd.jupyter.widget-view+json": {
       "model_id": "1a7a95045ebb42bdb2b8d537b8a049f0",
       "version_major": 2,
       "version_minor": 0
      },
      "text/plain": [
       "EEReprWidget(content=\"<span class='ee-loading'><div class='ee-spinner'></div> Geometry (Computing)</span>\")"
      ]
     },
     "metadata": {},
     "output_type": "display_data"
    }
   ],
   "source": [
    "img.geometry()"
   ]
  },
  {
   "cell_type": "markdown",
   "metadata": {},
   "source": [
    "### 📦 Caching"
   ]
  },
  {
   "cell_type": "markdown",
   "metadata": {},
   "source": [
    "`eerepr` caches results within each Jupyter session, so a large request will run slowly the first time but should be nearly instant if you repeat it."
   ]
  },
  {
   "cell_type": "code",
   "execution_count": 9,
   "metadata": {},
   "outputs": [],
   "source": [
    "fc = ee.FeatureCollection(\"WRI/GPPD/power_plants\").limit(1_000)"
   ]
  },
  {
   "cell_type": "markdown",
   "metadata": {},
   "source": [
    "First run takes a few seconds to retrieve data."
   ]
  },
  {
   "cell_type": "code",
   "execution_count": 10,
   "metadata": {},
   "outputs": [
    {
     "data": {
      "application/vnd.jupyter.widget-view+json": {
       "model_id": "57f43f0e84774ee0989b8f6cb6c08d9f",
       "version_major": 2,
       "version_minor": 0
      },
      "text/plain": [
       "EEReprWidget(content=\"<span class='ee-loading'><div class='ee-spinner'></div> FeatureCollection (Computing)</s…"
      ]
     },
     "metadata": {},
     "output_type": "display_data"
    }
   ],
   "source": [
    "fc"
   ]
  },
  {
   "cell_type": "markdown",
   "metadata": {},
   "source": [
    "Second run pulls data from the cache. Much faster!"
   ]
  },
  {
   "cell_type": "code",
   "execution_count": 11,
   "metadata": {},
   "outputs": [
    {
     "data": {
      "application/vnd.jupyter.widget-view+json": {
       "model_id": "2c505805854f44de95312d9c0b6ff113",
       "version_major": 2,
       "version_minor": 0
      },
      "text/plain": [
       "EEReprWidget(content=\"<span class='ee-loading'><div class='ee-spinner'></div> FeatureCollection (Computing)</s…"
      ]
     },
     "metadata": {},
     "output_type": "display_data"
    }
   ],
   "source": [
    "fc"
   ]
  },
  {
   "cell_type": "markdown",
   "metadata": {},
   "source": [
    "### ⚠️ Error Handling\n",
    "\n",
    "`eerepr` handles errors gracefully. If an error occurs while retrieving data, the repr will display the error message instead of crashing the notebook. For example, if we try to display an invalid projection..."
   ]
  },
  {
   "cell_type": "code",
   "execution_count": 12,
   "metadata": {},
   "outputs": [
    {
     "data": {
      "application/vnd.jupyter.widget-view+json": {
       "model_id": "ac95dbd7269c49b6ad84421d5023c546",
       "version_major": 2,
       "version_minor": 0
      },
      "text/plain": [
       "EEReprWidget(content=\"<span class='ee-loading'><div class='ee-spinner'></div> Projection (Computing)</span>\")"
      ]
     },
     "metadata": {},
     "output_type": "display_data"
    }
   ],
   "source": [
    "ee.Projection(\"foo\")"
   ]
  }
 ],
 "metadata": {
  "kernelspec": {
   "display_name": "eerepr",
   "language": "python",
   "name": "python3"
  },
  "language_info": {
   "codemirror_mode": {
    "name": "ipython",
    "version": 3
   },
   "file_extension": ".py",
   "mimetype": "text/x-python",
   "name": "python",
   "nbconvert_exporter": "python",
   "pygments_lexer": "ipython3",
   "version": "3.10.10"
  },
  "toc": {
   "base_numbering": 1,
   "nav_menu": {},
   "number_sections": true,
   "sideBar": true,
   "skip_h1_title": false,
   "title_cell": "Table of Contents",
   "title_sidebar": "Contents",
   "toc_cell": false,
   "toc_position": {},
   "toc_section_display": true,
   "toc_window_display": false
  }
 },
 "nbformat": 4,
 "nbformat_minor": 2
}
